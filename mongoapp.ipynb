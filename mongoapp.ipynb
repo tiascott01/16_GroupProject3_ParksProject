{
 "cells": [
  {
   "cell_type": "markdown",
   "metadata": {},
   "source": [
    "# MongoDB Import Instructions\n",
    "\n",
    "Import the data provided in the `parks_list_cleaned.csv` and `activities.csv` file from your Terminal. Name the database `national_parks` and the collections `parks_list` and `activities`.\n",
    "\n",
    "Within this markdown cell, copy the below lines of text to import the data from your Terminal.\n",
    "\n",
    "Import the dataset with \n",
    "\n",
    "`mongoimport --type csv -d national_parks -c parks_list --drop --headerline --file parks_list_cleaned.csv`\n",
    "\n",
    "`mongoimport --type csv -d national_parks -c activities --drop --headerline --file activities.csv`"
   ]
  },
  {
   "cell_type": "code",
   "execution_count": 1,
   "metadata": {},
   "outputs": [],
   "source": [
    "# Import dependencies\n",
    "from pymongo import MongoClient\n",
    "from pprint import pprint\n",
    "import os\n",
    "import json"
   ]
  },
  {
   "cell_type": "code",
   "execution_count": 2,
   "metadata": {},
   "outputs": [],
   "source": [
    "# Create an instance of MongoClient\n",
    "mongo = MongoClient(port=27017)"
   ]
  },
  {
   "cell_type": "code",
   "execution_count": 3,
   "metadata": {},
   "outputs": [
    {
     "data": {
      "text/plain": [
       "['admin', 'config', 'local', 'national_parks']"
      ]
     },
     "execution_count": 3,
     "metadata": {},
     "output_type": "execute_result"
    }
   ],
   "source": [
    "# confirm that our new database was created\n",
    "mongo.list_database_names()"
   ]
  },
  {
   "cell_type": "code",
   "execution_count": 4,
   "metadata": {},
   "outputs": [],
   "source": [
    "# assign our database and collections to variables\n",
    "db = mongo['national_parks']\n",
    "parks_list = db['parks_list']\n",
    "activities = db['activities']"
   ]
  },
  {
   "cell_type": "code",
   "execution_count": 5,
   "metadata": {},
   "outputs": [
    {
     "data": {
      "text/plain": [
       "['activities', 'parks_list']"
      ]
     },
     "execution_count": 5,
     "metadata": {},
     "output_type": "execute_result"
    }
   ],
   "source": [
    "# review collection names to verfiy they imported correctly\n",
    "db.list_collection_names()\n"
   ]
  },
  {
   "cell_type": "code",
   "execution_count": 6,
   "metadata": {},
   "outputs": [
    {
     "name": "stdout",
     "output_type": "stream",
     "text": [
      "{'_id': ObjectId('65b846e3e07d0c2d68e0e01d'),\n",
      " 'id': '13A57703-BB1A-41A2-94B8-53B692EB7238',\n",
      " 'name': 'Astronomy'}\n"
     ]
    }
   ],
   "source": [
    "# review a document in the activities collection\n",
    "pprint(activities.find_one())"
   ]
  },
  {
   "cell_type": "code",
   "execution_count": 7,
   "metadata": {},
   "outputs": [
    {
     "name": "stdout",
     "output_type": "stream",
     "text": [
      "{'_id': ObjectId('65b846d868f420daff4b04e7'),\n",
      " 'activities': 'Astronomy, Stargazing, Food, Picnicking, Guided Tours, '\n",
      "               'Self-Guided Tours - Walking, Hands-On, Junior Ranger Program, '\n",
      "               'Wildlife Watching, Birdwatching, Park Film, Museum Exhibits, '\n",
      "               'Shopping, Bookstore and Park Store, Gift Shop and Souvenirs',\n",
      " 'addresses': \"[{'postalCode': '42748', 'city': 'Hodgenville', 'stateCode': \"\n",
      "              \"'KY', 'countryCode': 'US', 'provinceTerritoryCode': '', \"\n",
      "              \"'line1': '2995 Lincoln Farm Road', 'type': 'Physical', 'line3': \"\n",
      "              \"'', 'line2': ''}, {'postalCode': '42748', 'city': \"\n",
      "              \"'Hodgenville', 'stateCode': 'KY', 'countryCode': 'US', \"\n",
      "              \"'provinceTerritoryCode': '', 'line1': '2995 Lincoln Farm Road', \"\n",
      "              \"'type': 'Mailing', 'line3': '', 'line2': ''}]\",\n",
      " 'description': 'For over a century people from around the world have come to '\n",
      "                'rural Central Kentucky to honor the humble beginnings of our '\n",
      "                \"16th president, Abraham Lincoln. His early life on Kentucky's \"\n",
      "                'frontier shaped his character and prepared him to lead the '\n",
      "                \"nation through Civil War. Visit our country's first memorial \"\n",
      "                'to Lincoln, built with donations from young and old, and the '\n",
      "                'site of his childhood home.',\n",
      " 'fullName': 'Abraham Lincoln Birthplace National Historical Park',\n",
      " 'images': \"[{'credit': 'NPS Photo', 'title': 'The Memorial Building with fall \"\n",
      "           \"colors', 'altText': 'The Memorial Building surrounded by fall \"\n",
      "           \"colors', 'caption': 'Over 200,000 people a year come to walk up \"\n",
      "           'the steps of the Memorial Building to visit the site where Abraham '\n",
      "           \"Lincoln was born', 'url': \"\n",
      "           \"'https://www.nps.gov/common/uploads/structured_data/3C861078-1DD8-B71B-0B774A242EF6A706.jpg'}, \"\n",
      "           \"{'credit': 'NPS Photo', 'title': 'The Memorial Building', \"\n",
      "           \"'altText': 'The first memorial erected to honor Abraham Lincoln', \"\n",
      "           \"'caption': 'The Memorial Building constructed on the traditional \"\n",
      "           \"site of the birth of Abraham Lincoln.', 'url': \"\n",
      "           \"'https://www.nps.gov/common/uploads/structured_data/3C861263-1DD8-B71B-0B71EF9B95F9644F.jpg'}, \"\n",
      "           \"{'credit': 'NPS Photo', 'title': 'The Symbolic Birth Cabin of \"\n",
      "           \"Abraham Lincoln', 'altText': 'The symbolic birth cabin on the \"\n",
      "           \"traditional site of the birth of Abraham Lincoln.', 'caption': \"\n",
      "           \"'The symbolic birth cabin of Abraham Lincoln.', 'url': \"\n",
      "           \"'https://www.nps.gov/common/uploads/structured_data/3C86137D-1DD8-B71B-0B978BACD7EBAEF1.jpg'}, \"\n",
      "           \"{'credit': 'NPS Photo', 'title': 'Statue of the Lincoln Family in \"\n",
      "           'the Visitor Center\\', \\'altText\\': \"Statue of the Lincoln family '\n",
      "           'in the park\\'s Visitor Center\", \\'caption\\': \\'Visitors to the '\n",
      "           \"park can view the statue of the Lincoln family.', 'url': \"\n",
      "           \"'https://www.nps.gov/common/uploads/structured_data/3C8614D1-1DD8-B71B-0B1AF72CA452B051.jpg'}]\",\n",
      " 'isFeeFreePark': 'True',\n",
      " 'isInteragencyPassAccepted': 'False',\n",
      " 'latitude': 37.5858662,\n",
      " 'longitude': -85.67330523,\n",
      " 'parkCode': 'abli',\n",
      " 'states': 'KY',\n",
      " 'url': 'https://www.nps.gov/abli/index.htm'}\n"
     ]
    }
   ],
   "source": [
    "# review a document in the parks list collection\n",
    "pprint(parks_list.find_one())"
   ]
  },
  {
   "cell_type": "code",
   "execution_count": 8,
   "metadata": {},
   "outputs": [],
   "source": [
    "# Function to export collection data to JSON\n",
    "def export_collection_to_json(collection_name, file_name):\n",
    "    # Select the collection\n",
    "    collection = db[collection_name]\n",
    "\n",
    "    # Fetch data from the collection\n",
    "    data = list(collection.find({}))\n",
    "\n",
    "    # Convert the data to a JSON string\n",
    "    json_data = json.dumps(data, default=str)  # Handle ObjectId and datetime objects\n",
    "\n",
    "    # Define file path\n",
    "    file_path = os.path.join(\"Resources\", \"Data Sources\", file_name)\n",
    "\n",
    "    # Write the JSON data to a file\n",
    "    with open(file_path, \"w\") as file:\n",
    "        file.write(json_data)"
   ]
  },
  {
   "cell_type": "code",
   "execution_count": 9,
   "metadata": {},
   "outputs": [],
   "source": [
    "# Export parks_list collection\n",
    "export_collection_to_json(\"parks_list\", \"parks_list.json\")\n",
    "\n",
    "# Export activities collection\n",
    "export_collection_to_json(\"activities\", \"activities.json\")\n"
   ]
  },
  {
   "cell_type": "code",
   "execution_count": null,
   "metadata": {},
   "outputs": [],
   "source": []
  }
 ],
 "metadata": {
  "kernelspec": {
   "display_name": "dev",
   "language": "python",
   "name": "python3"
  },
  "language_info": {
   "codemirror_mode": {
    "name": "ipython",
    "version": 3
   },
   "file_extension": ".py",
   "mimetype": "text/x-python",
   "name": "python",
   "nbconvert_exporter": "python",
   "pygments_lexer": "ipython3",
   "version": "3.10.13"
  }
 },
 "nbformat": 4,
 "nbformat_minor": 2
}
